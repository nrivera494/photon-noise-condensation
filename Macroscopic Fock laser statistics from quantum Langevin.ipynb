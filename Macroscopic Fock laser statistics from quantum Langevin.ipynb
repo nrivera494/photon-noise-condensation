{
 "cells": [
  {
   "cell_type": "code",
   "execution_count": 1,
   "metadata": {},
   "outputs": [],
   "source": [
    "using LinearAlgebra\n",
    "using QuantumOptics\n",
    "using DifferentialEquations\n",
    "using SparseArrays\n",
    "using Arpack\n",
    "using PyPlot\n",
    "using Distributions\n",
    "using ForwardDiff\n",
    "using NLsolve\n",
    "using Roots\n",
    "using Cubature\n",
    "using QuadGK"
   ]
  },
  {
   "cell_type": "code",
   "execution_count": 2,
   "metadata": {},
   "outputs": [],
   "source": [
    "rcParams = PyPlot.PyDict(PyPlot.matplotlib.\"rcParams\")\n",
    "rcParams[\"font.size\"] = 12;\n",
    "rcParams[\"font.sans-serif\"] = \"Arial\";"
   ]
  },
  {
   "cell_type": "markdown",
   "metadata": {},
   "source": [
    "The goal here is, for a few laser implementations of interest, to solve the Langevin equations:\n",
    "\\begin{equation}\n",
    "\\dot{S}_{33} = \\Lambda - \\left[ \\gamma_{||} + R_{sp}(n) n \\right]S_{33} + F_{33}\n",
    "\\end{equation}\n",
    "for the inversion, and\n",
    "\\begin{equation}\n",
    "\\dot{n} = \\left[R_{sp}(n)S_{33} - \\kappa(n) \\right]n + F_{n}\n",
    "\\end{equation}\n",
    "for the photon number. \n",
    "\n",
    "Here, $\\Lambda$ is the pumping rate, $\\gamma_{||}$ is the inversion relaxation rate. The cavity-mode spontaneous emission rate is given by $R_{sp}(n) = \\frac{2g^2}{\\gamma_{\\perp}}\\frac{\\gamma_{\\perp}^2}{\\gamma_{\\perp}^2 + (\\omega(n)-\\omega_a)^2}$, with $\\frac{2g^2}{\\gamma_{\\perp}}$ the spontaneous emission rate on resonance ($R_{sp}(\\omega_a) \\sim c\\sigma_{st}/V$), $\\gamma_{\\perp}$ the polarization relaxation time, $\\omega_a$ the atomic frequency, and $\\omega(n)$ the nonlinear cavity frequency.\n",
    "\n",
    "The forces have zero mean, and their diffusion coefficients are given by:\n",
    "\\begin{equation}\n",
    "\\langle 2D_{n,n}\\rangle = \\langle R_{sp}(n)nS_{33}\\rangle + \\langle \\kappa(n)n\\rangle,\n",
    "\\end{equation}\n",
    "\n",
    "\\begin{equation}\n",
    "\\langle 2D_{33,33}\\rangle = \\Lambda + \\gamma_{||}\\langle S_{33}\\rangle + \\langle R_{sp}(n)nS_{33}\\rangle,\n",
    "\\end{equation}\n",
    "and\n",
    "\\begin{equation}\n",
    "\\langle 2D_{33,n}\\rangle = \\langle 2D_{n,33}\\rangle = -\\langle R_{sp}(n) nS_{33} \\rangle.\n",
    "\\end{equation}\n",
    "\n",
    "To find the gross statistics of the cavity field, we want $\\langle n \\rangle$, as well as $(\\delta n)^2$. To get this, take $n = \\langle n \\rangle + \\delta n$ and $S_{33} = D + \\delta S$. It follows from these definitions that $(\\Delta n)^2 = \\langle (\\delta n)^2 \\rangle$ and the mean value of $n$ is given simply by $\\langle n \\rangle$. Solving the equations for the mean values yields\n",
    "\\begin{equation}\n",
    "D = \\frac{\\Lambda}{\\gamma_{||} + R_{sp}(\\langle n \\rangle)\\langle n \\rangle} \\equiv \\frac{D_0}{1 + \\frac{R_{sp}(\\langle n \\rangle)}{\\gamma_{||}}\\langle n \\rangle}\n",
    "\\end{equation}\n",
    "and\n",
    "\\begin{equation}\n",
    "\\frac{D_0 R_{sp}(\\langle n \\rangle)}{1 + \\frac{R_{sp}(\\langle n \\rangle)}{\\gamma_{||}}\\langle n \\rangle} = \\kappa(\\langle n \\rangle).\n",
    "\\end{equation}\n",
    "This implicit equation for the photon number can also be recast as (suppressing dependence on $\\langle n \\rangle$ for clarity):\n",
    "\\begin{equation}\n",
    "\\langle n \\rangle = \\frac{\\Lambda}{\\kappa} - \\frac{\\gamma_{||}}{R_{sp}}.\n",
    "\\end{equation}\n",
    "\n",
    "Note that therefore, the diffusion coefficients may be written as:\n",
    "\\begin{equation}\n",
    "\\langle 2D_{n,n}\\rangle = 2\\langle \\kappa(n)n\\rangle,\n",
    "\\end{equation}\n",
    "\n",
    "\\begin{equation}\n",
    "\\langle 2D_{33,33}\\rangle = 2\\langle \\kappa(n)(n+n_s)\\rangle,\n",
    "\\end{equation}\n",
    "\n",
    "\\begin{equation}\n",
    "\\langle 2D_{33,n}\\rangle = \\langle 2D_{n,33}\\rangle = -\\langle \\kappa n \\rangle.\n",
    "\\end{equation}\n",
    "Here, we've introduced the saturation photon number $n_s = (R_{sp}/\\gamma_{||})^{-1}$.\n",
    "\n",
    "For the fluctuations, we get the set of equations (with $\\langle n \\rangle \\rightarrow n$ for clarity)\n",
    "\\begin{equation}\n",
    "\\begin{pmatrix}\n",
    "\\dot{\\delta S} \\\\\n",
    "\\dot{\\delta n}\n",
    "\\end{pmatrix} = \\begin{pmatrix}\n",
    "-\\left( \\gamma_{||} + R_{sp}(n)n \\right) && -\\left(R_{sp}(n) + n R'_{sp}(n) \\right)D \\\\\n",
    "R_{sp}n && (DR'_{sp}(n)-\\kappa'(n))n\n",
    "\\end{pmatrix}\n",
    "\\begin{pmatrix}\n",
    "\\delta S \\\\\n",
    "\\delta n\n",
    "\\end{pmatrix} + \n",
    "\\begin{pmatrix}\n",
    "F_{33} \\\\\n",
    "F_n\n",
    "\\end{pmatrix},\n",
    "\\end{equation}\n",
    "which can be expressed simply as $\\dot{\\delta V} = M\\delta V + F$. Fourier transforming, one obtains: $-i\\omega\\delta V(\\omega) = M\\delta V(\\omega) + F(\\omega)$ which yields the solution $\\delta V(\\omega) = -[M+i\\omega]^{-1}F(\\omega) \\equiv K(\\omega)F(\\omega)$. The photon number uncertainty is given simply by the spectrum\n",
    "\\begin{equation}\n",
    "(\\Delta n)^2 = \\frac{1}{\\pi}\\int\\limits_0^{\\infty} d\\omega ~ \\langle \\delta n(\\omega) \\delta n(-\\omega) \\rangle.\n",
    "\\end{equation}"
   ]
  },
  {
   "cell_type": "markdown",
   "metadata": {},
   "source": [
    "In the cells below, we implement functions to calculate the intensity-dependent loss (and gain), and use it to calculate the cavity number noise spectrum.\n",
    "\n",
    "Note that a calculation of photon statistics for a Fock laser, with a sharp loss (and potentially sharp gain) requires specification of the nonlinear cavity (cavity_params), the properties of the loss assuming Fano transmission losses (loss_params), and the properties of the gain medium (gain_params). The gain is assumed to be a four-level gain medium with rapidly decaying upper-pump and lower lasing levels, as well as non-depleted ground level. "
   ]
  },
  {
   "cell_type": "markdown",
   "metadata": {},
   "source": [
    "The cell below calculates gain and loss (assuming the loss comes from transmission through a Fano mirror)."
   ]
  },
  {
   "cell_type": "code",
   "execution_count": 3,
   "metadata": {},
   "outputs": [
    {
     "data": {
      "text/plain": [
       "fano_loss (generic function with 1 method)"
      ]
     },
     "execution_count": 3,
     "metadata": {},
     "output_type": "execute_result"
    }
   ],
   "source": [
    "## Some constants and units.\n",
    "\n",
    "c0 = 3.0e8;\n",
    "ħ = 1.05e-34;\n",
    "ϵ0 = 8.85e-12;\n",
    "evtorads = 1.52e15;\n",
    "kWcm2 = 1e7;\n",
    "\n",
    "## This calculates the in-principle nonlinear gain (the gain depends on the detuning of the laser transition\n",
    "## and the cavity\n",
    "\n",
    "function gain(n,ω,gain_params)\n",
    "    \n",
    "    ωa = gain_params[1];\n",
    "    γ_perp = gain_params[2];\n",
    "    γ_par = gain_params[3];\n",
    "    R_sp = gain_params[4];\n",
    "    Λ = gain_params[5];\n",
    "    \n",
    "    Δ = ω - ωa;\n",
    "    D0 = Λ/γ_par;\n",
    "    \n",
    "    Rn = R_sp * (γ_perp^2 / (γ_perp^2 + Δ^2));\n",
    "    D = D0/(1+(Rn/γ_par)*n);\n",
    "    \n",
    "    g = Rn*D;\n",
    "    \n",
    "    return g\n",
    "end\n",
    "\n",
    "## This calculates the number-dependent cavity frequency\n",
    "\n",
    "function ωn(n,cavity_params)\n",
    "    \n",
    "    ω = cavity_params[1];\n",
    "    β = cavity_params[2];\n",
    "    \n",
    "    freq = ω*(1-2*β*n);\n",
    "    \n",
    "    return freq\n",
    "end\n",
    "\n",
    "## This calculates the frequency-dependent transmission for a mirror with\n",
    "## a Fano transmission profile as a function of the direct transmission and reflection\n",
    "## as well as the frequency width of the mirror.\n",
    "\n",
    "function fano_transmission(ω,loss_params)\n",
    "    \n",
    "    ωd = loss_params[1];\n",
    "    td = loss_params[2];\n",
    "    rd = loss_params[3];\n",
    "    γd = loss_params[4];\n",
    "    \n",
    "    Δ = ωd - ω;\n",
    "    \n",
    "    num = (td*Δ)^2 + (rd*(γd/2))^2 - 2*(γd/2)*Δ*real(td*rd);\n",
    "    denom = Δ^2 + (γd/2)^2;\n",
    "    \n",
    "    T = num / denom;\n",
    "    \n",
    "    return T\n",
    "end\n",
    "\n",
    "function fano_loss(n,cavity_params,loss_params)\n",
    "    \n",
    "    ω = cavity_params[1];\n",
    "    β = cavity_params[2];\n",
    "    v = cavity_params[3];\n",
    "    l = cavity_params[4];\n",
    "    \n",
    "    T_fano = fano_transmission(ω*(1-2*β*n),loss_params);\n",
    "    fsr = v/(2*l);\n",
    "    loss = fsr*T_fano;\n",
    "    \n",
    "    return loss\n",
    "end"
   ]
  },
  {
   "cell_type": "markdown",
   "metadata": {},
   "source": [
    "The cells below implement the calculation of $\\delta n(\\omega)$ and the number noise spectrum, following the derivation provided in the first cell. \n",
    "\n",
    "Note that many of these functions take a parameter \"sharp\": if it is set to 1, then the loss and gain derivative terms are included into the calculation. If sharp = 0, the calculation pretends the loss doesn't depend on photon number and the gain is simply saturable gain. "
   ]
  },
  {
   "cell_type": "code",
   "execution_count": 8,
   "metadata": {},
   "outputs": [
    {
     "data": {
      "text/plain": [
       "langevin_stats (generic function with 3 methods)"
      ]
     },
     "execution_count": 8,
     "metadata": {},
     "output_type": "execute_result"
    }
   ],
   "source": [
    "## This calculates the matrix (M + iω)^-1 detailed in the top of this notebook.\n",
    "\n",
    "function langevin_matrix(Ω,n,gain_params,loss_params,cavity_params,sharp=1)\n",
    "    # sharp = 1 corr. to sharp loss, sharp = 0 corr. to lin. loss\n",
    "    ωa = gain_params[1];\n",
    "    γ_perp = gain_params[2];\n",
    "    γ_par = gain_params[3];\n",
    "    R_sp = gain_params[4];\n",
    "    Λ = gain_params[5];\n",
    "    \n",
    "    ωd = loss_params[1];\n",
    "    td = loss_params[2];\n",
    "    rd = loss_params[3];\n",
    "    γd = loss_params[4];    \n",
    "    \n",
    "    ω = cavity_params[1];\n",
    "    β = cavity_params[2];\n",
    "    v = cavity_params[3];\n",
    "    l = cavity_params[4];\n",
    "    \n",
    "    ω_nl = ωn(n,cavity_params);\n",
    "    \n",
    "    Rn = R_sp * (γ_perp^2 / (γ_perp^2 + (ω_nl-ωa)^2));\n",
    "    D0 = Λ/γ_par;\n",
    "    D = D0/(1+(Rn/γ_par)*n); \n",
    "    \n",
    "    κn = (v/(2*l))*fano_transmission(ωn(n,cavity_params),loss_params);\n",
    "    \n",
    "    nl_gain_func(n) = R_sp * (γ_perp^2 / (γ_perp^2 + (ωn(n,cavity_params)-ωa)^2));\n",
    "    nl_loss_func(n) = fano_loss(n,cavity_params,loss_params);\n",
    "    \n",
    "    Rn_prime = ForwardDiff.derivative(nl_gain_func,n);\n",
    "    κn_prime = ForwardDiff.derivative(nl_loss_func,n);\n",
    "    \n",
    "    M = 1.0im*zeros(2,2);\n",
    "    \n",
    "    if sharp == 1\n",
    "        M[1,1] = -(γ_par + Rn*n) + 1im*Ω;\n",
    "        M[1,2] = -(Rn + n*Rn_prime)*D;\n",
    "        M[2,1] = Rn*n;\n",
    "        M[2,2] = n*(D*Rn_prime - κn_prime) + 1im*Ω;\n",
    "    else\n",
    "        M[1,1] = -(γ_par + Rn*n) + 1im*Ω;\n",
    "        M[1,2] = -Rn*D;\n",
    "        M[2,1] = Rn*n;\n",
    "        M[2,2] = 1im*Ω; \n",
    "    end\n",
    "    \n",
    "    K = -inv(M);\n",
    "    \n",
    "    return K\n",
    "end\n",
    "\n",
    "## This calculates the matrix of diffusion coefficients.\n",
    "\n",
    "function diffusion_matrix(n,gain_params,loss_params,cavity_params)\n",
    "    \n",
    "    ωa = gain_params[1];\n",
    "    γ_perp = gain_params[2];\n",
    "    γ_par = gain_params[3];\n",
    "    R_sp = gain_params[4];\n",
    "    Λ = gain_params[5];\n",
    "    \n",
    "    ωd = loss_params[1];\n",
    "    td = loss_params[2];\n",
    "    rd = loss_params[3];\n",
    "    γ = loss_params[4];    \n",
    "    \n",
    "    ω = cavity_params[1];\n",
    "    β = cavity_params[2];\n",
    "    v = cavity_params[3];\n",
    "    l = cavity_params[4];\n",
    "    \n",
    "    ω_nl = ωn(n,cavity_params);\n",
    "    \n",
    "    Rn = R_sp * (γ_perp^2 / (γ_perp^2 + (ω_nl-ωa)^2));\n",
    "    # println(Rn/R_sp)\n",
    "    D0 = Λ/γ_par;\n",
    "    D = D0/(1+(Rn/γ_par)*n); \n",
    "    \n",
    "    g = gain(n,ωn(n,cavity_params),gain_params);\n",
    "    κn = fano_loss(n,cavity_params,loss_params);\n",
    "    \n",
    "    diffusion = 1.0im*zeros(2,2);\n",
    "    \n",
    "    diffusion[1,1] = Λ + γ_par*D + g*n;\n",
    "    diffusion[1,2] = -g*n;\n",
    "    diffusion[2,1] = diffusion[1,2];\n",
    "    diffusion[2,2] = g*n + κn*n;\n",
    "    \n",
    "    return diffusion\n",
    "end\n",
    "\n",
    "## This calculates the cavity number noise spectrum.\n",
    "\n",
    "function noise_spec(Ω,n,gain_params,loss_params,cavity_params,sharp=1)\n",
    "    \n",
    "    K = langevin_matrix(Ω,n,gain_params,loss_params,cavity_params,sharp);\n",
    "    Kn = K[2,1:2];\n",
    "\n",
    "    diffusion = diffusion_matrix(n,gain_params,loss_params,cavity_params);\n",
    "    \n",
    "    Sω = (1/pi)*(K[2,1]*diffusion[1,1]*conj(K[2,1]) +\n",
    "        K[2,1]*diffusion[1,2]*conj(K[2,2]) +\n",
    "        K[2,2]*diffusion[2,1]*conj(K[2,1]) +\n",
    "        K[2,2]*diffusion[2,2]*conj(K[2,2]));\n",
    "    \n",
    "    return Sω\n",
    "end\n",
    "\n",
    "## This finds the mean number of photons, solving the steady-state condition presented at the top of the notebook.\n",
    "\n",
    "function find_nbar(gain_params,loss_params,cavity_params,ninit=1e-7)\n",
    "    \n",
    "    gain_loss_diff(n) = gain(n,ωn(n,cavity_params),gain_params) - fano_loss(n,cavity_params,loss_params);\n",
    "    nbar = find_zero(gain_loss_diff,ninit)\n",
    "    \n",
    "    return nbar\n",
    "end\n",
    "\n",
    "## This integrates the number noise spectrum to get the variance in cavity photon number, and normalizes\n",
    "## it to the mean number to return also the Fano factor.\n",
    "\n",
    "function langevin_stats(gain_params,loss_params,cavity_params,sharp=1,ninit=1e-7)\n",
    "    # Will solve for n, and if finite solution, do the rest.\n",
    "\n",
    "    nbar = find_nbar(gain_params,loss_params,cavity_params,ninit);\n",
    "    \n",
    "    if nbar > 0\n",
    "        dn2 = real(quadgk((Ω -> noise_spec(Ω,nbar,gain_params,loss_params,cavity_params,sharp)), \n",
    "        0,1e15; rtol=1e-4)[1]);\n",
    "        fano = dn2/nbar;\n",
    "    else\n",
    "        nbar = 0;\n",
    "        dn = 0;\n",
    "        fano = 0;\n",
    "    end\n",
    "\n",
    "    return nbar, dn2, fano\n",
    "end"
   ]
  },
  {
   "cell_type": "markdown",
   "metadata": {},
   "source": [
    "This last function calculates a few useful intermediate quantities associated with the steady state. They are: (1) the mean cavity photon number (2) the nonlinear frequency shift, normalized to the cavity frequency (3) the gain rate in the steady state (4) the loss rate in the steady state (5) the magnitude of the stimulated emission rate in the steady-state (e.g., the magnitude of gain saturation) (6) the derivative of the loss at steady-state, and (7) the derivative of the gain-loss ratio at steady state, which determines the magnitude of the photon variance (Eq. (7) of main text). "
   ]
  },
  {
   "cell_type": "code",
   "execution_count": 9,
   "metadata": {},
   "outputs": [
    {
     "data": {
      "text/plain": [
       "langevin_intermediate_qtys (generic function with 3 methods)"
      ]
     },
     "execution_count": 9,
     "metadata": {},
     "output_type": "execute_result"
    }
   ],
   "source": [
    "function langevin_intermediate_qtys(gain_params,loss_params,cavity_params,sharp=1,ninit=1e-7)\n",
    "    # Will solve for n, and if finite solution, do the rest.\n",
    "    \n",
    "    ωa = gain_params[1];\n",
    "    γ_perp = gain_params[2];\n",
    "    γ_par = gain_params[3];\n",
    "    R_sp = gain_params[4];\n",
    "    Λ = gain_params[5];\n",
    "    \n",
    "    ωd = loss_params[1];\n",
    "    td = loss_params[2];\n",
    "    rd = loss_params[3];\n",
    "    γ = loss_params[4];    \n",
    "    \n",
    "    ω = cavity_params[1];\n",
    "    β = cavity_params[2];\n",
    "    v = cavity_params[3];\n",
    "    l = cavity_params[4];\n",
    "    \n",
    "    nbar = find_nbar(gain_params,loss_params,cavity_params,ninit);\n",
    "    ω_nbar = ωn(nbar,cavity_params);\n",
    "    g_nbar = gain(nbar,ωn(nbar,cavity_params),gain_params);\n",
    "    κ_nbar = fano_loss(nbar,cavity_params,loss_params);\n",
    "    \n",
    "    D0 = Λ/γ_par;\n",
    "    \n",
    "    nl_gain_func(n) = R_sp * (γ_perp^2 / (γ_perp^2 + (ωn(n,cavity_params)-ωa)^2));\n",
    "    nl_loss_func(n) = fano_loss(n,cavity_params,loss_params);\n",
    "    \n",
    "    sat_gain_func(n) = nl_gain_func(n) * D0 / (1 + (nl_gain_func(n)/γ_par)*n);\n",
    "    gain_loss_ratio_func(n) = sat_gain_func(n)/fano_loss(n,cavity_params,loss_params);\n",
    "    gain_loss_ratio_func_flat(n) = sat_gain_func(n)/κ_nbar;\n",
    "    \n",
    "    Rn_prime = ForwardDiff.derivative(nl_gain_func,nbar);\n",
    "    κn_prime = ForwardDiff.derivative(nl_loss_func,nbar);\n",
    "    \n",
    "    if sharp == 1\n",
    "        gl_prime = ForwardDiff.derivative(gain_loss_ratio_func,nbar);\n",
    "    else\n",
    "        gl_prime = ForwardDiff.derivative(gain_loss_ratio_func_flat,nbar);\n",
    "    end\n",
    "\n",
    "    results = [nbar, ω_nbar/ω, g_nbar, κ_nbar, R_sp*nbar, κn_prime, gl_prime];\n",
    "    return results\n",
    "    \n",
    "end"
   ]
  },
  {
   "cell_type": "markdown",
   "metadata": {},
   "source": [
    "## Example of the framework for a solid-state laser gain medium"
   ]
  },
  {
   "cell_type": "code",
   "execution_count": 10,
   "metadata": {},
   "outputs": [
    {
     "data": {
      "image/png": "[encoded data removed]",
      "text/plain": [
       "Figure(PyObject <Figure size 75x75 with 1 Axes>)"
      ]
     },
     "metadata": {},
     "output_type": "display_data"
    },
    {
     "name": "stdout",
     "output_type": "stream",
     "text": [
      "The magnitude of κ is 8.467741935483871e-5\n",
      "The magnitude of κ/γ is 0.008467741935483872\n"
     ]
    }
   ],
   "source": [
    "## Gain medium parameters for Nd:YAG.\n",
    "ω_gain = (1240/1064)*evtorads;\n",
    "γ_perp_gain = 9.98e11;\n",
    "γ_par_gain = 4.34e3;\n",
    "σ_st_gain = 2.8e-23; # m^2;\n",
    "σ_abs_gain = 7.7e-24;\n",
    "n_gain = 1.82;\n",
    "density_gain = 1.38e26 # 1% atomic doping (per m^3)\n",
    "\n",
    "## Cavity mode properties for a mm-scale open cavity with a TEM00 mode. The β parameter was calculated by\n",
    "## an overlap integral.\n",
    "δ_ca = 0*γ_perp_gain; # cavity-atom detuning\n",
    "ω_cav = ω_gain + δ_ca;\n",
    "L_cav = 1e-3;\n",
    "R_mode = 40e-6;\n",
    "V_mode = (pi*(R_mode)^2)*L_cav;\n",
    "v_cav = c0;\n",
    "β_cav = 5e-18;\n",
    "\n",
    "cavity_params = [ω_cav, β_cav, v_cav, L_cav];\n",
    "\n",
    "# Spontaneous emission rate into the mode\n",
    "Rsp_gain = (c0/n_gain)*σ_st_gain/V_mode;\n",
    "\n",
    "## Pumping parameters for the gain.\n",
    "I_inc = 0.2*kWcm2; \n",
    "γ41_gain = (σ_abs_gain*I_inc)/(ħ*ω_gain);\n",
    "fill = 0.5;\n",
    "L_gain = fill*L_cav;\n",
    "N_gain = density_gain * (pi*(R_mode)^2) * L_gain; # assuming transverse pump fully inside gain\n",
    "Λ_gain = N_gain*γ41_gain;\n",
    "\n",
    "gain_params = [ω_gain, γ_perp_gain, γ_par_gain, Rsp_gain, Λ_gain];\n",
    "\n",
    "## Fano loss parameters\n",
    "td = 1;\n",
    "rd = sqrt(1-td^2);\n",
    "γd = (1e-2)*ω_cav; \n",
    "δ_cm = -1*0.001*γd;\n",
    "ωd = ω_cav + δ_cm;\n",
    "\n",
    "loss_params = [ωd,td,rd,γd];\n",
    "figure(figsize=(0.75,0.75))\n",
    "plot([(ww-ωd)/γd for ww=(ωd-2*γd):(γd/1000):(ωd+2*γd)],[fano_transmission(ww,loss_params) for ww=(ωd-2*γd):(γd/1000):(ωd+2*γd)])\n",
    "ylabel(\"T(ω)\")\n",
    "xlabel(\"Δ/γ\")\n",
    "println(\"The magnitude of κ is $((v_cav*td^2/2/L_cav)/ω_cav)\")\n",
    "println(\"The magnitude of κ/γ is $((v_cav*td^2/2/L_cav)/ω_cav / (γd / ω_cav))\")"
   ]
  },
  {
   "cell_type": "markdown",
   "metadata": {},
   "source": [
    "Let's plot a gain-loss curve for a given pump value."
   ]
  },
  {
   "cell_type": "code",
   "execution_count": 11,
   "metadata": {},
   "outputs": [
    {
     "data": {
      "image/png": "[encoded data removed]",
      "text/plain": [
       "Figure(PyObject <Figure size 150x150 with 1 Axes>)"
      ]
     },
     "metadata": {},
     "output_type": "display_data"
    },
    {
     "data": {
      "text/plain": [
       "PyObject Text(25.000000000000007, 0.5, 'Gain, Loss (1/ω)')"
      ]
     },
     "execution_count": 11,
     "metadata": {},
     "output_type": "execute_result"
    }
   ],
   "source": [
    "figure(figsize=(1.5,1.5))\n",
    "naxis_vals = [nn for nn=0:1e8:0.3e13];\n",
    "plot(naxis_vals, [gain(nn,ωn(nn,cavity_params),gain_params) for nn in naxis_vals]/ω_gain,linestyle=\"--\", color=\"g\")\n",
    "plot(naxis_vals, [fano_loss(nn,cavity_params,loss_params) for nn in naxis_vals]/ω_gain,linestyle=\"-\", color=\"r\")\n",
    "ylim(0,1e-9)\n",
    "xlabel(\"n\")\n",
    "ylabel(\"Gain, Loss (1/ω)\") "
   ]
  },
  {
   "cell_type": "markdown",
   "metadata": {},
   "source": [
    "We can calculate the mean, variance, and Fano factor for the two steady-states here. They are the first, second, and third outputs of the line below, respectively. Make sure to set the guess for the nonlinear solver for the mean photon number as something pretty close to the intersection points. "
   ]
  },
  {
   "cell_type": "code",
   "execution_count": 12,
   "metadata": {},
   "outputs": [
    {
     "data": {
      "text/plain": [
       "(5.340891786422269e10, 6.086918096571741e10, 1.1396819744683906)"
      ]
     },
     "execution_count": 12,
     "metadata": {},
     "output_type": "execute_result"
    }
   ],
   "source": [
    "langevin_stats(gain_params,loss_params,cavity_params,1,1e9)"
   ]
  },
  {
   "cell_type": "code",
   "execution_count": 13,
   "metadata": {},
   "outputs": [
    {
     "data": {
      "text/plain": [
       "(1.199730786934973e12, 9.21934399045235e10, 0.07684510634261194)"
      ]
     },
     "execution_count": 13,
     "metadata": {},
     "output_type": "execute_result"
    }
   ],
   "source": [
    "langevin_stats(gain_params,loss_params,cavity_params,1,2e12)"
   ]
  },
  {
   "cell_type": "code",
   "execution_count": 14,
   "metadata": {},
   "outputs": [
    {
     "data": {
      "text/plain": [
       "(1.199730786934973e12, 1.1997615797304746e12, 1.0000256664210314)"
      ]
     },
     "execution_count": 14,
     "metadata": {},
     "output_type": "execute_result"
    }
   ],
   "source": [
    "langevin_stats(gain_params,loss_params,cavity_params,0,2e12)"
   ]
  },
  {
   "cell_type": "markdown",
   "metadata": {},
   "source": [
    "According to the above three lines: the first steady state has 13% more noise than the shot noise level, the second has nearly 95% less. If the loss weren't sharp, the second would be more or less at the shot noise level. The cell below calculates the noise spectrum for the two steady states with and without sharpness, as in Fig. 4 of the main text."
   ]
  },
  {
   "cell_type": "code",
   "execution_count": 25,
   "metadata": {},
   "outputs": [
    {
     "data": {
      "image/png": "[encoded data removed]",
      "text/plain": [
       "Figure(PyObject <Figure size 100x100 with 1 Axes>)"
      ]
     },
     "metadata": {},
     "output_type": "display_data"
    }
   ],
   "source": [
    "nbar = find_nbar(gain_params,loss_params,cavity_params,1e9)\n",
    "figure(figsize=(1,1))\n",
    "fvals = [Ω/2/pi for Ω = 0:1e2:(2*pi*1e6)];\n",
    "semilogy(fvals,[noise_spec(2*pi*ff,nbar,gain_params,loss_params,cavity_params,0) for ff in fvals])\n",
    "semilogy(fvals,[noise_spec(2*pi*ff,nbar,gain_params,loss_params,cavity_params,1) for ff in fvals])\n",
    "xlabel(\"f (Hz)\")\n",
    "ylabel(\"Sₐ(f)\")\n",
    "xlim(0,3e5)\n",
    "ylim(1e3)\n",
    "xticks([0,3*10^5])\n",
    "yticks([1e4,1e5]);"
   ]
  },
  {
   "cell_type": "code",
   "execution_count": 27,
   "metadata": {},
   "outputs": [
    {
     "data": {
      "image/png": "[encoded data removed]",
      "text/plain": [
       "Figure(PyObject <Figure size 100x100 with 1 Axes>)"
      ]
     },
     "metadata": {},
     "output_type": "display_data"
    }
   ],
   "source": [
    "nbar = find_nbar(gain_params,loss_params,cavity_params,2e12)\n",
    "figure(figsize=(1,1))\n",
    "fvals = [Ω/2/pi for Ω = 0:1e2:(2*pi*1e6)];\n",
    "semilogy(fvals,[noise_spec(2*pi*ff,nbar,gain_params,loss_params,cavity_params,0) for ff in fvals])\n",
    "semilogy(fvals,[noise_spec(2*pi*ff,nbar,gain_params,loss_params,cavity_params,1) for ff in fvals])\n",
    "xlabel(\"f (Hz)\")\n",
    "ylabel(\"Sₐ(f)\")\n",
    "xlim(0,2e5)\n",
    "ylim(1e4)\n",
    "xticks([0,10^5])\n",
    "yticks([10^4,10^5]);"
   ]
  },
  {
   "cell_type": "markdown",
   "metadata": {},
   "source": [
    "The last cell repeats these calculations for a larger pump level."
   ]
  },
  {
   "cell_type": "code",
   "execution_count": 39,
   "metadata": {},
   "outputs": [],
   "source": [
    "## Pumping parameters for the gain.\n",
    "I_inc = 0.9*kWcm2; \n",
    "γ41_gain = (σ_abs_gain*I_inc)/(ħ*ω_gain);\n",
    "fill = 0.5;\n",
    "L_gain = fill*L_cav;\n",
    "N_gain = density_gain * (pi*(R_mode)^2) * L_gain;\n",
    "Λ_gain = N_gain*γ41_gain;\n",
    "\n",
    "gain_params = [ω_gain, γ_perp_gain, γ_par_gain, Rsp_gain, Λ_gain];"
   ]
  },
  {
   "cell_type": "code",
   "execution_count": 40,
   "metadata": {},
   "outputs": [
    {
     "data": {
      "image/png": "[encoded data removed]",
      "text/plain": [
       "Figure(PyObject <Figure size 150x150 with 1 Axes>)"
      ]
     },
     "metadata": {},
     "output_type": "display_data"
    },
    {
     "data": {
      "text/plain": [
       "PyObject Text(25.000000000000007, 0.5, 'Gain, Loss (1/ω)')"
      ]
     },
     "execution_count": 40,
     "metadata": {},
     "output_type": "execute_result"
    }
   ],
   "source": [
    "figure(figsize=(1.5,1.5))\n",
    "naxis_vals = [nn for nn=0:1e8:0.3e13];\n",
    "plot(naxis_vals, [gain(nn,ωn(nn,cavity_params),gain_params) for nn in naxis_vals]/ω_gain,linestyle=\"--\", color=\"g\")\n",
    "plot(naxis_vals, [fano_loss(nn,cavity_params,loss_params) for nn in naxis_vals]/ω_gain,linestyle=\"-\", color=\"r\")\n",
    "ylim(0,1e-9)\n",
    "xlabel(\"n\")\n",
    "ylabel(\"Gain, Loss (1/ω)\") "
   ]
  },
  {
   "cell_type": "code",
   "execution_count": 43,
   "metadata": {},
   "outputs": [
    {
     "data": {
      "text/plain": [
       "(1.3931786980212341e12, 1.7229191905086877e11, 0.12366821233742607)"
      ]
     },
     "execution_count": 43,
     "metadata": {},
     "output_type": "execute_result"
    }
   ],
   "source": [
    "langevin_stats(gain_params,loss_params,cavity_params,1,2e12)"
   ]
  },
  {
   "cell_type": "code",
   "execution_count": 42,
   "metadata": {},
   "outputs": [
    {
     "data": {
      "text/plain": [
       "(1.3931786980212341e12, 1.3932844948288682e12, 1.0000759391510825)"
      ]
     },
     "execution_count": 42,
     "metadata": {},
     "output_type": "execute_result"
    }
   ],
   "source": [
    "langevin_stats(gain_params,loss_params,cavity_params,0,2e12)"
   ]
  },
  {
   "cell_type": "code",
   "execution_count": 45,
   "metadata": {},
   "outputs": [
    {
     "data": {
      "image/png": "[encoded data removed]",
      "text/plain": [
       "Figure(PyObject <Figure size 100x100 with 1 Axes>)"
      ]
     },
     "metadata": {},
     "output_type": "display_data"
    }
   ],
   "source": [
    "nbar = find_nbar(gain_params,loss_params,cavity_params,2e12)\n",
    "figure(figsize=(1,1))\n",
    "fvals = [Ω/2/pi for Ω = 0:1e2:(2*pi*1e6)];\n",
    "semilogy(fvals,[noise_spec(2*pi*ff,nbar,gain_params,loss_params,cavity_params,0) for ff in fvals])\n",
    "semilogy(fvals,[noise_spec(2*pi*ff,nbar,gain_params,loss_params,cavity_params,1) for ff in fvals])\n",
    "xlabel(\"f (Hz)\")\n",
    "ylabel(\"Sₐ(f)\")\n",
    "xlim(0,2e5)\n",
    "ylim(1e4)\n",
    "xticks([0,10^5])\n",
    "yticks([10^5,10^7]);"
   ]
  },
  {
   "cell_type": "markdown",
   "metadata": {},
   "source": [
    "Here: there is only one steady state, it has about 90% less noise than the coherent state integrated over all frequencies, and about 99% lower at low frequencies."
   ]
  }
 ],
 "metadata": {
  "kernelspec": {
   "display_name": "Julia 1.1.1",
   "language": "julia",
   "name": "julia-1.1"
  },
  "language_info": {
   "file_extension": ".jl",
   "mimetype": "application/julia",
   "name": "julia",
   "version": "1.1.1"
  }
 },
 "nbformat": 4,
 "nbformat_minor": 2
}
