{
 "cells": [
  {
   "cell_type": "markdown",
   "metadata": {},
   "source": [
    "# Numerical demonstration of \"Fock lasing\" effect in systems with sharply nonlinear loss"
   ]
  },
  {
   "cell_type": "markdown",
   "metadata": {},
   "source": [
    "The purpose of this notebook is to demonstrate numerically (from solutions of the Liouvillian equation) that a gain medium, coupled to the nonlinear coupled-resonator system (the latter evolving according to Eq. (8) of the SI), lases into a heavily sub-Poissonian state, approaching a Fock state. It is effectively impossible to model from quantum mechanical first principles the interaction of $N$ pumped atoms with a cavity (because the Hilbert space dimension of $N \\gg 1$ atoms is simply too large). Instead, we will look at the coupling of one single pumped four-level system interacting with the cavity, and look at the photon probability distribution in the steady state. \n",
    "\n",
    "Such a system, a single emitter coupled to a cavity (with a suitably rescaled coupling), is capable of correctly modeling the quantum dynamics of a laser, because in a laser, there are negligible inter-atom correlations. The type of model considered here also has a physical \"life of its own\" as experiments exist demonstrating \"one-atom lasing / masing\" in which a single pumped atom is sufficient to exceed the threshold of the system (due to its very low losses). Such one atom lasers have been developed at both optical and microwave frequencies (the latter with superconducting qubits).\n",
    "\n",
    "We note that the descriptions and discussion provided in this notebook are largely similar to the discussion in the relevant section of the Supplementary Information."
   ]
  },
  {
   "cell_type": "code",
   "execution_count": 57,
   "metadata": {},
   "outputs": [],
   "source": [
    "## Load packages and set some fonts for the plots.\n",
    "\n",
    "using LinearAlgebra\n",
    "using DifferentialEquations\n",
    "using QuantumOptics\n",
    "using Distributions\n",
    "using SparseArrays\n",
    "using Arpack\n",
    "using PyPlot\n",
    "using ForwardDiff\n",
    "using DelimitedFiles\n",
    "\n",
    "rcParams = PyPlot.PyDict(PyPlot.matplotlib.\"rcParams\")\n",
    "rcParams[\"font.size\"] = 12;\n",
    "rcParams[\"font.sans-serif\"] = \"Arial\";"
   ]
  },
  {
   "cell_type": "code",
   "execution_count": 58,
   "metadata": {},
   "outputs": [
    {
     "data": {
      "text/plain": [
       "ωn (generic function with 1 method)"
      ]
     },
     "execution_count": 58,
     "metadata": {},
     "output_type": "execute_result"
    }
   ],
   "source": [
    "function stats(nvals,dist)\n",
    "    \n",
    "    n2vals = nvals.^2;\n",
    "    nexp = sum(nvals.*dist);\n",
    "    n2exp = sum(n2vals.*dist);\n",
    "    dn = sqrt(n2exp-nexp^2);\n",
    "    fano = dn^2/nexp;\n",
    "    \n",
    "    return nexp, dn, fano;\n",
    "end\n",
    "\n",
    "function loss(wa,wd,κ,γ,λ)\n",
    "    δ = wa - wd;\n",
    "    Lw = (κ*δ^2 + γ*abs(λ)^2 + 2*sqrt(κ*γ)*δ*real(λ)) / (δ^2 + γ^2 / 4);\n",
    "    return Lw\n",
    "end\n",
    "\n",
    "function ωn(wa, β, n)\n",
    "    wn = wa*(1+2*β*n);\n",
    "    return wn\n",
    "end"
   ]
  },
  {
   "cell_type": "markdown",
   "metadata": {},
   "source": [
    "The cell below follows the standard procedure in QuantumOptics.jl: set up a Hilbert space of the system, as well as operators. First, we define the parameters of the nonlinear cavity + four-level system. "
   ]
  },
  {
   "cell_type": "markdown",
   "metadata": {},
   "source": [
    "For the cavity, let's consider a system that evolves according to the master equation, Eq. (8) of the SI. We need to specify the frequencies of the $a$ and $d$ resonances, as well as the nonlinearity $\\beta$, the coupling $\\lambda$, and the decay rates $\\kappa$ and $\\lambda$. These parameters specify the temporal loss coefficient $\\kappa(n) = L(n)/n$ shown in Eq. (24) of the SI. The parameters here for the nonlinear cavity are the same as those used in the notebook entitled \"Transient noise condensation\"."
   ]
  },
  {
   "cell_type": "code",
   "execution_count": 18,
   "metadata": {},
   "outputs": [],
   "source": [
    "ωc = 1.0;\n",
    "δ = -30e-3\n",
    "ωd = 1 + δ;\n",
    "\n",
    "β = -5e-4;\n",
    "κ = 1e-7;\n",
    "γ = 1e-2;\n",
    "λ = 0;\n",
    "\n",
    "nvals = [0:1:110;]\n",
    "Ln = real([loss(ωn(ωc, β, nn),ωd,κ,γ,λ) for nn in nvals]);"
   ]
  },
  {
   "cell_type": "markdown",
   "metadata": {},
   "source": [
    "For the gain, we consider a four-level system with a similar pumping and decay structure to something like a solid-state gain medium: the upper pump level (4) and the lower lasing level (2) decay very rapidly compared to all timescales in the problem. The lasing transition 2-3 has some fast polarization decay time $\\gamma_{T}$ and a population decay time $\\gamma_{L}$. The lower pump level (the ground level, 1) is connected to the upper pump level by a pump rate $\\gamma_{41}$."
   ]
  },
  {
   "cell_type": "code",
   "execution_count": 19,
   "metadata": {},
   "outputs": [
    {
     "name": "stdout",
     "output_type": "stream",
     "text": [
      "The spontaneous emission rate is 1.6363636363636363e-5.\n",
      "The expected inversion is 0.033999999999999996.\n",
      "The ratio of polarization decay to lower-lasing decay is 10.0 [should be >> 1].\n",
      "The ratio of lower lasing decay to spontaneous emission is 61.111111111111114 [should be >> 1].\n",
      "The ratio of relaxation to spontaneous emission is 6.111111111111112 [should be > 1 if decay is radiative].\n",
      "The saturation photon number is 6.111111111111112.\n"
     ]
    }
   ],
   "source": [
    "# Four-level system parameters\n",
    "\n",
    "ωa = 1.0;\n",
    "\n",
    "E1 = 0; # Can take as zero without loss of generality.\n",
    "E2 = 1.2; # Specific value here plays no role, only energy difference between second and third levels \n",
    "E3 = E2 + ωa;\n",
    "E4 = 3; # Specific value plays no role.\n",
    "\n",
    "Λ = 3.4e-6#2.6e-6; # Pump rate\n",
    "γT = 1e-2; # Polarization decay rate\n",
    "γL = 1e-4; # Population decay rate\n",
    "γ34 = 1; # Decay from upper pump level to upper lasing level\n",
    "γ13 = 0; # Decay from upper lasing level to lower pump level / ground state\n",
    "γ12 = 1e-3; # Decay from lower lasing level to lower pump level / ground state\n",
    "\n",
    "g = 3e-4 # Coupling of atom to photon. Should be scaled to emulate effect of more than one atom.\n",
    "Rsp = 2*g^2 / (γT + γ12);\n",
    "ns = γL / Rsp;\n",
    "\n",
    "Gn = 0.5*[Λ*Rsp/(γL + Rsp*(nn)) for nn in nvals]; # Only valid in non-depleted pump approximation.\n",
    "\n",
    "println(\"The spontaneous emission rate is $(Rsp).\")\n",
    "println(\"The expected inversion is $((Λ/γL)).\")\n",
    "println(\"The ratio of polarization decay to lower-lasing decay is $((γT/γ12)) [should be >> 1].\")\n",
    "println(\"The ratio of lower lasing decay to spontaneous emission is $((γ12/Rsp)) [should be >> 1].\")\n",
    "println(\"The ratio of relaxation to spontaneous emission is $(γL/Rsp) [should be > 1 if decay is radiative].\")\n",
    "println(\"The saturation photon number is $(ns).\")"
   ]
  },
  {
   "cell_type": "markdown",
   "metadata": {},
   "source": [
    "Let us plot a gain/loss curve similar to the ones employed in the main text. This will line-up well with the different regimes of operation (sub-threshold, bistable, near-Fock). Note that the agreement with the analytical theory of the SI is imperfect because at these low photon numbers, spontaneous emission affects the threshold. Nevertheless, the effects shown in the manuscript are all (clearly) present below (especially the very low-noise steady-states.)"
   ]
  },
  {
   "cell_type": "code",
   "execution_count": 20,
   "metadata": {},
   "outputs": [
    {
     "data": {
      "image/png": "[encoded data removed]",
      "text/plain": [
       "Figure(PyObject <Figure size 200x200 with 1 Axes>)"
      ]
     },
     "metadata": {},
     "output_type": "display_data"
    }
   ],
   "source": [
    "figure(figsize=(2,2));\n",
    "plot(nvals,Ln,linestyle=\"-\",color=\"red\")\n",
    "plot(nvals,0.3*Gn,linestyle=\"--\",color=\"green\")\n",
    "plot(nvals,Gn,linestyle=\"-\",color=\"green\")\n",
    "plot(nvals,2*Gn,linestyle=\"-.\",color=\"green\")\n",
    "xlabel(L\"n\")\n",
    "ylabel(L\"κ(n),G(n)\")\n",
    "savefig(\"gl_curves_numerical_fock_lasing.svg\",format=\"svg\")"
   ]
  },
  {
   "cell_type": "markdown",
   "metadata": {},
   "source": [
    "Now let us set up the Hilbert space, Hamiltonian, and Liouvillian. Then, we find the steady state of the Liouvillian and calculate the photon probability distribution (as well as the atomic distribution, and the distribution in the $d$ mode). We will compute the lowest two eigenvalues (two to check for bistability) and corresponding eigenvectors. In cases where there is only one clearly numerically zero eigenvalue, we just plot the unique steady-state (in the example below, there is one steady-state)."
   ]
  },
  {
   "cell_type": "code",
   "execution_count": 21,
   "metadata": {},
   "outputs": [],
   "source": [
    "## Setting up Hilbert space and operators\n",
    "\n",
    "N_cutoff = 70;\n",
    "N_d = 1;\n",
    "N_gain = 4;\n",
    "\n",
    "nvals_a = [0:1:N_cutoff;];\n",
    "nvals_d = [0:1:N_d;];\n",
    "\n",
    "b_fock = FockBasis(N_cutoff);\n",
    "b_d = FockBasis(N_d);\n",
    "b_atom = NLevelBasis(N_gain);\n",
    "\n",
    "b = b_fock ⊗ b_d ⊗ b_atom;\n",
    "\n",
    "## Operators for a\n",
    "\n",
    "a = destroy(b_fock);\n",
    "ad = create(b_fock);\n",
    "n = number(b_fock);\n",
    "Ip = identityoperator(b_fock);\n",
    "\n",
    "## Operators for d\n",
    "\n",
    "d = destroy(b_d);\n",
    "dd = create(b_d);\n",
    "nd = number(b_d);\n",
    "Id = identityoperator(b_d);\n",
    "\n",
    "X = (sqrt(Complex(κ/(κ+γ)))*(a ⊗ Id) + sqrt(Complex(γ/(κ+γ)))*(Ip ⊗ d))\n",
    "Xd = dagger(X);\n",
    "\n",
    "## Operators for four-level system (transition(j,i) goes from i to j)\n",
    "\n",
    "σ41 = transition(b_atom, 4, 1);\n",
    "σ34 = transition(b_atom, 3, 4);\n",
    "σ23 = transition(b_atom, 2, 3);\n",
    "σ32 = transition(b_atom, 3, 2);\n",
    "σ31 = transition(b_atom, 3, 1);\n",
    "σ13 = transition(b_atom, 1, 3);\n",
    "σ12 = transition(b_atom, 1, 2);\n",
    "\n",
    "σ11 = transition(b_atom, 1, 1);\n",
    "σ22 = transition(b_atom, 2, 2);\n",
    "σ33 = transition(b_atom, 3, 3);\n",
    "σ44 = transition(b_atom, 4, 4);\n",
    "σz = σ33 - σ22;\n",
    "\n",
    "Ie = identityoperator(b_atom);\n",
    "\n",
    "## Setting up Hamiltonian + Lindblad terms (no gain) \n",
    "\n",
    "H_nl =  ωc*n + ωc*β*ad*ad*a*a;\n",
    "H_at = E1*σ11 + E2*σ22 + E3*σ33 + E4*σ44;\n",
    "H_rwa =  H_nl ⊗ Id ⊗ Ie +  ωd*(Ip ⊗ nd ⊗ Ie) + (λ*a ⊗ dd + conj(λ)*ad ⊗ d) ⊗ Ie + Ip ⊗ Id ⊗ H_at + \n",
    "         g*(a ⊗ Id ⊗ σ32 + ad ⊗ Id ⊗ σ23);\n",
    "\n",
    "jump_γ = sqrt(κ+γ)*(X ⊗ Ie);\n",
    "jump_12 = identityoperator(b_fock ⊗ b_d) ⊗ σ12;\n",
    "jump_T = identityoperator(b_fock ⊗ b_d) ⊗ σz;\n",
    "jump_L = identityoperator(b_fock ⊗ b_d) ⊗ σ23;\n",
    "jump_34 = identityoperator(b_fock ⊗ b_d) ⊗ σ34;\n",
    "jump_Λ = identityoperator(b_fock ⊗ b_d) ⊗ σ41;\n",
    "jumps = [jump_γ, jump_12, jump_T, jump_L, jump_34, jump_Λ];\n",
    "rates = [1, γ12, γT, γL, γ34, Λ];\n",
    "\n",
    "liouville_op = liouvillian(H_rwa, jumps; rates=rates);\n",
    "liouville_mat = sparse(liouville_op).data;\n",
    "@elapsed minval = eigs(liouville_mat,nev = 2, which=:SM)\n",
    "\n",
    "kk = 1;\n",
    "ρss = abs.(reshape(minval[2][:,kk],((N_cutoff+1)*(N_d+1)*N_gain,(N_cutoff+1)*(N_d+1)*N_gain)))\n",
    "ρss = ρss/tr(ρss);\n",
    "\n",
    "ρ_op = DenseOperator(b,ρss);\n",
    "\n",
    "ρ_ph_ad = ptrace(ρ_op,3);\n",
    "ρ_ph_a = ptrace(ρ_op,[2,3]);\n",
    "ρ_ph_d = ptrace(ρ_op,[1,3]);\n",
    "ρ_at = ptrace(ρ_op,[1,2]);"
   ]
  },
  {
   "cell_type": "markdown",
   "metadata": {},
   "source": [
    "Below, we plot the partial trace of the corresponding eigenvector to get the photon probability distribution. We also examine the atomic population distribution and the population of the $d$ mode. As you will see below:\n",
    "- The laser steady state has noise 90% below the coherent-state limit (and much below what standard nonlinear absorbers and low-order nonlinearities provide). The photon uncertainty is about 1.9. The photon number is 35, which is near the approximate zero of the loss at 30 (it is higher for reasons that are evident for the gain-loss curves).\n",
    "- The atomic populations are what you expect from a canonical four-level gain: the lowest level is negligibly depleted, the lower lasing and upper pump levels have negligible population, and the small population in the upper lasing level is enough for inversion.\n",
    "- The $d$ mode has very little photons in it, as expected from $\\gamma \\gg \\kappa$."
   ]
  },
  {
   "cell_type": "code",
   "execution_count": 22,
   "metadata": {},
   "outputs": [
    {
     "data": {
      "image/png": "[encoded data removed]",
      "text/plain": [
       "Figure(PyObject <Figure size 50x50 with 1 Axes>)"
      ]
     },
     "metadata": {},
     "output_type": "display_data"
    }
   ],
   "source": [
    "figure(figsize=(0.5,0.5));\n",
    "plot(diag(ρ_ph_a.data),linestyle=\"-\",color=\"C2\")\n",
    "xlabel(L\"n\")\n",
    "ylabel(L\"P_n\")\n",
    "stats(nvals_a,diag(ρ_ph_a.data))\n",
    "savefig(\"low_noise_numerical_fock_lasing.svg\",format=\"svg\")"
   ]
  },
  {
   "cell_type": "code",
   "execution_count": 23,
   "metadata": {},
   "outputs": [
    {
     "data": {
      "text/plain": [
       "4-element Array{Complex{Float64},1}:\n",
       "    0.9768161060825691 + 0.0im\n",
       " 0.0033211747606807325 + 0.0im\n",
       "   0.01985939798198903 + 0.0im\n",
       " 3.3211747606823676e-6 + 0.0im"
      ]
     },
     "execution_count": 23,
     "metadata": {},
     "output_type": "execute_result"
    }
   ],
   "source": [
    "diag(ρ_at.data)"
   ]
  },
  {
   "cell_type": "code",
   "execution_count": 24,
   "metadata": {},
   "outputs": [
    {
     "data": {
      "text/plain": [
       "2-element Array{Complex{Float64},1}:\n",
       "     0.999783483542662 + 0.0im\n",
       " 0.0002165164573372897 + 0.0im"
      ]
     },
     "execution_count": 24,
     "metadata": {},
     "output_type": "execute_result"
    }
   ],
   "source": [
    "diag(ρ_ph_d.data)"
   ]
  },
  {
   "cell_type": "markdown",
   "metadata": {},
   "source": [
    "The cells above were for a single set of gain parameters. Now, let us plot the photon number and statistical properties of $a$ as a function of the pump rate $\\Lambda$."
   ]
  },
  {
   "cell_type": "code",
   "execution_count": 10,
   "metadata": {},
   "outputs": [],
   "source": [
    "pump_vals = [0.2:0.05:5;]*1e-6\n",
    "nexp_vals = zeros(length(pump_vals));\n",
    "dn2_vals = zeros(length(pump_vals));\n",
    "fano_vals = zeros(length(pump_vals));\n",
    "\n",
    "for ii = 1:length(pump_vals)\n",
    "    \n",
    "    Λ = pump_vals[ii];\n",
    "    rates = [1, γ12, γT, γL, γ34, Λ];\n",
    "\n",
    "    liouville_op = liouvillian(H_rwa, jumps; rates=rates);\n",
    "    liouville_mat = sparse(liouville_op).data;\n",
    "    @elapsed minval = eigs(liouville_mat,nev = 2, which=:SM)\n",
    "\n",
    "    kk = 1;\n",
    "    ρss = abs.(reshape(minval[2][:,kk],((N_cutoff+1)*(N_d+1)*N_gain,(N_cutoff+1)*(N_d+1)*N_gain)))\n",
    "    ρss = ρss/tr(ρss);\n",
    "    ρ_op = DenseOperator(b,ρss);\n",
    "    ρ_ph_ad = ptrace(ρ_op,3);\n",
    "    ρ_ph_a = ptrace(ρ_op,[2,3]);\n",
    "    ρ_ph_d = ptrace(ρ_op,[1,3]);\n",
    "    ρ_at = ptrace(ρ_op,[1,2]);\n",
    "    \n",
    "    nexp, dn, fano = real.(stats(nvals_a,diag(ρ_ph_a.data)));\n",
    "    nexp_vals[ii] = nexp;\n",
    "    dn2_vals[ii] = dn^2;\n",
    "    fano_vals[ii] = fano;\n",
    "    \n",
    "end"
   ]
  },
  {
   "cell_type": "code",
   "execution_count": 11,
   "metadata": {},
   "outputs": [
    {
     "data": {
      "image/png": "[encoded data removed]",
      "text/plain": [
       "Figure(PyObject <Figure size 200x200 with 1 Axes>)"
      ]
     },
     "metadata": {},
     "output_type": "display_data"
    }
   ],
   "source": [
    "figure(figsize=(2,2));\n",
    "plot(pump_vals*1e6,nexp_vals)\n",
    "plot(pump_vals*1e6,dn2_vals)\n",
    "xlabel(L\"\\Lambda\")\n",
    "ylabel(L\"n,(\\Delta n)^2\")\n",
    "savefig(\"s_curve_numerical_fock_lasing.svg\",format=\"svg\")"
   ]
  },
  {
   "cell_type": "code",
   "execution_count": 12,
   "metadata": {},
   "outputs": [
    {
     "data": {
      "image/png": "[encoded data removed]",
      "text/plain": [
       "Figure(PyObject <Figure size 200x200 with 1 Axes>)"
      ]
     },
     "metadata": {},
     "output_type": "display_data"
    }
   ],
   "source": [
    "figure(figsize=(2,2));\n",
    "plot(pump_vals*1e6,fano_vals)\n",
    "xlabel(L\"\\Lambda\")\n",
    "ylabel(L\"F = (\\Delta n)^2 / n\")\n",
    "savefig(\"fano_numerical_fock_lasing.svg\",format=\"svg\")"
   ]
  },
  {
   "cell_type": "markdown",
   "metadata": {},
   "source": [
    "Feel free to change parameters of the loss with respect to the \"Transient noise condensation\" notebook to find situations with even better noise reduction in the steady state. This example shows one in which a very high-order sub-Poissonian state can be created. The state below has nearly 95% less noise than the shot noise level, with about 160 photons (this also goes beyond the maximum noise reduction theoretically possible from squeezing + coherent-displacement, and could still be improved)."
   ]
  },
  {
   "cell_type": "code",
   "execution_count": 53,
   "metadata": {},
   "outputs": [
    {
     "data": {
      "text/plain": [
       "61.724053527"
      ]
     },
     "execution_count": 53,
     "metadata": {},
     "output_type": "execute_result"
    }
   ],
   "source": [
    "## Setting up Hilbert space and operators\n",
    "\n",
    "ωc = 1.0;\n",
    "δ = -60e-3\n",
    "ωd = 1 + δ;\n",
    "\n",
    "β = -0.4*5e-4;\n",
    "κ = 1e-7;\n",
    "γ = 1e-2;\n",
    "λ = 0;\n",
    "\n",
    "ωa = 1.0;\n",
    "\n",
    "E1 = 0; # Can take as zero without loss of generality.\n",
    "E2 = 1.2; # Specific value here plays no role, only energy difference between second and third levels \n",
    "E3 = E2 + ωa;\n",
    "E4 = 3; # Specific value plays no role.\n",
    "\n",
    "Λ = 5*3.4e-6#2.6e-6; # Pump rate\n",
    "γT = 1e-2; # Polarization decay rate\n",
    "γL = 1e-4; # Population decay rate\n",
    "γ34 = 1; # Decay from upper pump level to upper lasing level\n",
    "γ13 = 0; # Decay from upper lasing level to lower pump level / ground state\n",
    "γ12 = 1e-3; # Decay from lower lasing level to lower pump level / ground state\n",
    "\n",
    "g = 3e-4 # Coupling of atom to photon. Should be scaled to emulate effect of more than one atom.\n",
    "Rsp = 2*g^2 / (γT + γ12);\n",
    "ns = γL / Rsp;\n",
    "\n",
    "N_cutoff = 250;\n",
    "N_d = 1;\n",
    "N_gain = 4;\n",
    "\n",
    "nvals_a = [0:1:N_cutoff;];\n",
    "nvals_d = [0:1:N_d;];\n",
    "\n",
    "b_fock = FockBasis(N_cutoff);\n",
    "b_d = FockBasis(N_d);\n",
    "b_atom = NLevelBasis(N_gain);\n",
    "\n",
    "b = b_fock ⊗ b_d ⊗ b_atom;\n",
    "\n",
    "## Operators for a\n",
    "\n",
    "a = destroy(b_fock);\n",
    "ad = create(b_fock);\n",
    "n = number(b_fock);\n",
    "Ip = identityoperator(b_fock);\n",
    "\n",
    "## Operators for d\n",
    "\n",
    "d = destroy(b_d);\n",
    "dd = create(b_d);\n",
    "nd = number(b_d);\n",
    "Id = identityoperator(b_d);\n",
    "\n",
    "X = (sqrt(Complex(κ/(κ+γ)))*(a ⊗ Id) + sqrt(Complex(γ/(κ+γ)))*(Ip ⊗ d))\n",
    "Xd = dagger(X);\n",
    "\n",
    "## Operators for four-level system (transition(j,i) goes from i to j)\n",
    "\n",
    "σ41 = transition(b_atom, 4, 1);\n",
    "σ34 = transition(b_atom, 3, 4);\n",
    "σ23 = transition(b_atom, 2, 3);\n",
    "σ32 = transition(b_atom, 3, 2);\n",
    "σ31 = transition(b_atom, 3, 1);\n",
    "σ13 = transition(b_atom, 1, 3);\n",
    "σ12 = transition(b_atom, 1, 2);\n",
    "\n",
    "σ11 = transition(b_atom, 1, 1);\n",
    "σ22 = transition(b_atom, 2, 2);\n",
    "σ33 = transition(b_atom, 3, 3);\n",
    "σ44 = transition(b_atom, 4, 4);\n",
    "σz = σ33 - σ22;\n",
    "\n",
    "Ie = identityoperator(b_atom);\n",
    "\n",
    "## Setting up Hamiltonian + Lindblad terms (no gain) \n",
    "\n",
    "H_nl =  ωc*n + ωc*β*ad*ad*a*a;\n",
    "H_at = E1*σ11 + E2*σ22 + E3*σ33 + E4*σ44;\n",
    "H_rwa =  H_nl ⊗ Id ⊗ Ie +  ωd*(Ip ⊗ nd ⊗ Ie) + (λ*a ⊗ dd + conj(λ)*ad ⊗ d) ⊗ Ie + Ip ⊗ Id ⊗ H_at + \n",
    "         g*(a ⊗ Id ⊗ σ32 + ad ⊗ Id ⊗ σ23);\n",
    "\n",
    "jump_γ = sqrt(κ+γ)*(X ⊗ Ie);\n",
    "jump_12 = identityoperator(b_fock ⊗ b_d) ⊗ σ12;\n",
    "jump_T = identityoperator(b_fock ⊗ b_d) ⊗ σz;\n",
    "jump_L = identityoperator(b_fock ⊗ b_d) ⊗ σ23;\n",
    "jump_34 = identityoperator(b_fock ⊗ b_d) ⊗ σ34;\n",
    "jump_Λ = identityoperator(b_fock ⊗ b_d) ⊗ σ41;\n",
    "jumps = [jump_γ, jump_12, jump_T, jump_L, jump_34, jump_Λ];\n",
    "rates = [1, γ12, γT, γL, γ34, Λ];\n",
    "\n",
    "liouville_op = liouvillian(H_rwa, jumps; rates=rates);\n",
    "liouville_mat = sparse(liouville_op).data;\n",
    "@elapsed minval = eigs(liouville_mat,nev = 2, which=:SM)"
   ]
  },
  {
   "cell_type": "code",
   "execution_count": 54,
   "metadata": {},
   "outputs": [
    {
     "data": {
      "image/png": "[encoded data removed]",
      "text/plain": [
       "Figure(PyObject <Figure size 200x200 with 1 Axes>)"
      ]
     },
     "metadata": {},
     "output_type": "display_data"
    },
    {
     "data": {
      "text/plain": [
       "(163.33417785958332 + 0.0im, 3.4077016476524857 + 0.0im, 0.07109614577664543 + 0.0im)"
      ]
     },
     "execution_count": 54,
     "metadata": {},
     "output_type": "execute_result"
    }
   ],
   "source": [
    "kk = 1;\n",
    "ρss = abs.(reshape(minval[2][:,kk],((N_cutoff+1)*(N_d+1)*N_gain,(N_cutoff+1)*(N_d+1)*N_gain)))\n",
    "ρss = ρss/tr(ρss);\n",
    "\n",
    "ρ_op = DenseOperator(b,ρss);\n",
    "\n",
    "ρ_ph_ad = ptrace(ρ_op,3);\n",
    "ρ_ph_a = ptrace(ρ_op,[2,3]);\n",
    "ρ_ph_d = ptrace(ρ_op,[1,3]);\n",
    "ρ_at = ptrace(ρ_op,[1,2]);\n",
    "\n",
    "figure(figsize=(2,2));\n",
    "plot(diag(ρ_ph_a.data),linestyle=\"-\",color=\"C2\")\n",
    "xlabel(L\"n\")\n",
    "ylabel(L\"P_n\")\n",
    "stats(nvals_a,diag(ρ_ph_a.data))"
   ]
  },
  {
   "cell_type": "markdown",
   "metadata": {},
   "source": [
    "The physics extends to even larger photon numbers. By reducing the strength of the nonlinearity, the location of the approximate zero of the loss gets pushed to higher photon numbers. This next example shows that the same very high noise reduction is obtained when the nonlinearity is reduced by a factor of three, such that the low-noise state, with ~95% less noise than shot noise (over all frequencies!) has 500 photons.\n",
    "\n",
    "This also shows that the concept does not get fundamentally harder to realize with higher photon numbers."
   ]
  },
  {
   "cell_type": "code",
   "execution_count": 80,
   "metadata": {},
   "outputs": [
    {
     "data": {
      "text/plain": [
       "576.427859177"
      ]
     },
     "execution_count": 80,
     "metadata": {},
     "output_type": "execute_result"
    }
   ],
   "source": [
    "## Setting up Hilbert space and operators\n",
    "\n",
    "ωc = 1.0;\n",
    "δ = -1*60e-3\n",
    "ωd = 1 + δ;\n",
    "\n",
    "β = -(1/3)*0.4*5e-4;\n",
    "κ = 1e-7;\n",
    "γ = 1e-2;\n",
    "λ = 0;\n",
    "\n",
    "ωa = 1.0;\n",
    "\n",
    "E1 = 0; # Can take as zero without loss of generality.\n",
    "E2 = 1.2; # Specific value here plays no role, only energy difference between second and third levels \n",
    "E3 = E2 + ωa;\n",
    "E4 = 3; # Specific value plays no role.\n",
    "\n",
    "Λ = 12*3.4e-6#2.6e-6; # Pump rate\n",
    "γT = 1e-2; # Polarization decay rate\n",
    "γL = 1e-4; # Population decay rate\n",
    "γ34 = 1; # Decay from upper pump level to upper lasing level\n",
    "γ13 = 0; # Decay from upper lasing level to lower pump level / ground state\n",
    "γ12 = 1e-3; # Decay from lower lasing level to lower pump level / ground state\n",
    "\n",
    "g = 3e-4 # Coupling of atom to photon. Should be scaled to emulate effect of more than one atom.\n",
    "Rsp = 2*g^2 / (γT + γ12);\n",
    "ns = γL / Rsp;\n",
    "\n",
    "N_cutoff = 650;\n",
    "N_d = 1;\n",
    "N_gain = 4;\n",
    "\n",
    "nvals_a = [0:1:N_cutoff;];\n",
    "nvals_d = [0:1:N_d;];\n",
    "\n",
    "b_fock = FockBasis(N_cutoff);\n",
    "b_d = FockBasis(N_d);\n",
    "b_atom = NLevelBasis(N_gain);\n",
    "\n",
    "b = b_fock ⊗ b_d ⊗ b_atom;\n",
    "\n",
    "## Operators for a\n",
    "\n",
    "a = destroy(b_fock);\n",
    "ad = create(b_fock);\n",
    "n = number(b_fock);\n",
    "Ip = identityoperator(b_fock);\n",
    "\n",
    "## Operators for d\n",
    "\n",
    "d = destroy(b_d);\n",
    "dd = create(b_d);\n",
    "nd = number(b_d);\n",
    "Id = identityoperator(b_d);\n",
    "\n",
    "X = (sqrt(Complex(κ/(κ+γ)))*(a ⊗ Id) + sqrt(Complex(γ/(κ+γ)))*(Ip ⊗ d))\n",
    "Xd = dagger(X);\n",
    "\n",
    "## Operators for four-level system (transition(j,i) goes from i to j)\n",
    "\n",
    "σ41 = transition(b_atom, 4, 1);\n",
    "σ34 = transition(b_atom, 3, 4);\n",
    "σ23 = transition(b_atom, 2, 3);\n",
    "σ32 = transition(b_atom, 3, 2);\n",
    "σ31 = transition(b_atom, 3, 1);\n",
    "σ13 = transition(b_atom, 1, 3);\n",
    "σ12 = transition(b_atom, 1, 2);\n",
    "\n",
    "σ11 = transition(b_atom, 1, 1);\n",
    "σ22 = transition(b_atom, 2, 2);\n",
    "σ33 = transition(b_atom, 3, 3);\n",
    "σ44 = transition(b_atom, 4, 4);\n",
    "σz = σ33 - σ22;\n",
    "\n",
    "Ie = identityoperator(b_atom);\n",
    "\n",
    "## Setting up Hamiltonian + Lindblad terms (no gain) \n",
    "\n",
    "H_nl =  ωc*n + ωc*β*ad*ad*a*a;\n",
    "H_at = E1*σ11 + E2*σ22 + E3*σ33 + E4*σ44;\n",
    "H_rwa =  H_nl ⊗ Id ⊗ Ie +  ωd*(Ip ⊗ nd ⊗ Ie) + (λ*a ⊗ dd + conj(λ)*ad ⊗ d) ⊗ Ie + Ip ⊗ Id ⊗ H_at + \n",
    "         g*(a ⊗ Id ⊗ σ32 + ad ⊗ Id ⊗ σ23);\n",
    "\n",
    "jump_γ = sqrt(κ+γ)*(X ⊗ Ie);\n",
    "jump_12 = identityoperator(b_fock ⊗ b_d) ⊗ σ12;\n",
    "jump_T = identityoperator(b_fock ⊗ b_d) ⊗ σz;\n",
    "jump_L = identityoperator(b_fock ⊗ b_d) ⊗ σ23;\n",
    "jump_34 = identityoperator(b_fock ⊗ b_d) ⊗ σ34;\n",
    "jump_Λ = identityoperator(b_fock ⊗ b_d) ⊗ σ41;\n",
    "jumps = [jump_γ, jump_12, jump_T, jump_L, jump_34, jump_Λ];\n",
    "rates = [1, γ12, γT, γL, γ34, Λ];\n",
    "\n",
    "liouville_op = liouvillian(H_rwa, jumps; rates=rates);\n",
    "liouville_mat = sparse(liouville_op).data;\n",
    "@elapsed minval = eigs(liouville_mat,nev = 1, which=:SM)"
   ]
  },
  {
   "cell_type": "code",
   "execution_count": 81,
   "metadata": {},
   "outputs": [
    {
     "data": {
      "image/png": "[encoded data removed]",
      "text/plain": [
       "Figure(PyObject <Figure size 200x200 with 1 Axes>)"
      ]
     },
     "metadata": {},
     "output_type": "display_data"
    },
    {
     "data": {
      "text/plain": [
       "(489.85702987424685 + 0.0im, 6.001284308664551 + 0.0im, 0.07352229560259453 + 0.0im)"
      ]
     },
     "execution_count": 81,
     "metadata": {},
     "output_type": "execute_result"
    }
   ],
   "source": [
    "kk = 1;\n",
    "ρss = abs.(reshape(minval[2][:,kk],((N_cutoff+1)*(N_d+1)*N_gain,(N_cutoff+1)*(N_d+1)*N_gain)))\n",
    "ρss = ρss/tr(ρss);\n",
    "\n",
    "ρ_op = DenseOperator(b,ρss);\n",
    "\n",
    "ρ_ph_ad = ptrace(ρ_op,3);\n",
    "ρ_ph_a = ptrace(ρ_op,[2,3]);\n",
    "ρ_ph_d = ptrace(ρ_op,[1,3]);\n",
    "ρ_at = ptrace(ρ_op,[1,2]);\n",
    "\n",
    "figure(figsize=(2,2));\n",
    "plot(diag(ρ_ph_a.data),linestyle=\"-\",color=\"C2\")\n",
    "xlabel(L\"n\")\n",
    "ylabel(L\"P_n\")\n",
    "stats(nvals_a,diag(ρ_ph_a.data))"
   ]
  },
  {
   "cell_type": "markdown",
   "metadata": {},
   "source": [
    "Finally, here's one more example with a two-level gain medium that gives an uncertainty of basically 1 on 60 photons. "
   ]
  },
  {
   "cell_type": "code",
   "execution_count": 78,
   "metadata": {},
   "outputs": [],
   "source": [
    "b_emit = SpinBasis(1//2);\n",
    "\n",
    "N_cutoff = 100;\n",
    "N_d = 2;\n",
    "\n",
    "nvals_a = [0:1:N_cutoff;];\n",
    "nvals_d = [0:1:N_d;];\n",
    "\n",
    "b_fock = FockBasis(N_cutoff);\n",
    "b_d = FockBasis(N_d);\n",
    "\n",
    "b = b_emit ⊗ b_fock ⊗ b_d;\n",
    "\n",
    "σxe = sigmax(b_emit);\n",
    "σye = sigmay(b_emit);\n",
    "σze = sigmaz(b_emit);\n",
    "σpe = sigmap(b_emit);\n",
    "σme = sigmam(b_emit);\n",
    "Ie = identityoperator(b_emit);\n",
    "\n",
    "a = destroy(b_fock);\n",
    "ad = create(b_fock);\n",
    "n = number(b_fock);\n",
    "Ip = identityoperator(b_fock);\n",
    "\n",
    "d = destroy(b_d);\n",
    "dd = create(b_d);\n",
    "nd = number(b_d);\n",
    "Id = identityoperator(b_d);\n",
    "\n",
    "ωc = 1.0;\n",
    "δ = 10e-3;\n",
    "ωd = 1 + δ;\n",
    "\n",
    "β = 1.5e-4;\n",
    "λ = 1e-6;\n",
    "κd = 1e-4;\n",
    "κa = (1e-10)*exp(0*1im*pi);\n",
    "\n",
    "ϵ = 1e-6;\n",
    "ωe = 1.0;\n",
    "\n",
    "H_nl =  ωc*n + 0.5*β*n^2;\n",
    "\n",
    "H_rwa =  Ie ⊗ H_nl ⊗ Id + ωe/2*(σze ⊗ Ip ⊗ Id) + ϵ*(σpe ⊗ a ⊗ Id + σme ⊗ ad ⊗ Id) +\n",
    "         λ*(Ie ⊗ a ⊗ dd + Ie ⊗ ad ⊗ d) + ωd*(Ie ⊗ Ip ⊗ nd);\n",
    "\n",
    "H_rwa_sp = H_rwa;\n",
    "\n",
    "Γ = 1e-3;\n",
    "\n",
    "r = 4*Γ;\n",
    "\n",
    "jump_r = σpe ⊗ Ip ⊗ Id;\n",
    "jump_Γ = σme ⊗ Ip ⊗ Id;\n",
    "jump_γ = Ie ⊗ (sqrt(Complex(κd))*(Ip ⊗ d) + sqrt(Complex(κa))*(a ⊗ Id));\n",
    "\n",
    "jumps_sp = [jump_r, jump_Γ, jump_γ];\n",
    "rates_sp = [r, Γ, 1];\n",
    "\n",
    "liouville_op = liouvillian(H_rwa_sp, jumps_sp; rates=rates_sp);\n",
    "liouville_mat = sparse(liouville_op).data;\n",
    "droptol!(liouville_mat,abs(κa)/1000);"
   ]
  },
  {
   "cell_type": "code",
   "execution_count": 79,
   "metadata": {},
   "outputs": [
    {
     "data": {
      "image/png": "[encoded data removed]",
      "text/plain": [
       "Figure(PyObject <Figure size 300x300 with 1 Axes>)"
      ]
     },
     "metadata": {},
     "output_type": "display_data"
    },
    {
     "data": {
      "text/plain": [
       "(62.24451661275244 + 0.0im, 1.2200522051597458 + 0.0im, 0.023914192997527336 + 0.0im)"
      ]
     },
     "execution_count": 79,
     "metadata": {},
     "output_type": "execute_result"
    }
   ],
   "source": [
    "@elapsed minval = eigs(liouville_mat,nev = 1, which=:SM)\n",
    "\n",
    "kk = 1;\n",
    "ρss = abs.(reshape(minval[2][:,kk],(2*(N_cutoff+1)*(N_d+1),2*(N_cutoff+1)*(N_d+1))))\n",
    "ρss = ρss/tr(ρss);\n",
    "\n",
    "ρ_op = DenseOperator(b,ρss);\n",
    "\n",
    "ρ_ph_ad = ptrace(ρ_op,1);\n",
    "ρ_ph_a = ptrace(ptrace(ρ_op,1),2);\n",
    "ρ_ph_d = ptrace(ptrace(ρ_op,1),1);\n",
    "ρ_at = ptrace(ptrace(ρ_op,3),2);\n",
    "\n",
    "figure(figsize=(3,3));\n",
    "plot(diag(ρ_ph_a.data),linestyle=\"-.\",marker=\"o\",color=\"C2\")\n",
    "xlabel(L\"n\")\n",
    "ylabel(L\"P_n\")\n",
    "\n",
    "stats(nvals_a,diag(ρ_ph_a.data))"
   ]
  }
 ],
 "metadata": {
  "kernelspec": {
   "display_name": "Julia 1.1.1",
   "language": "julia",
   "name": "julia-1.1"
  },
  "language_info": {
   "file_extension": ".jl",
   "mimetype": "application/julia",
   "name": "julia",
   "version": "1.1.1"
  }
 },
 "nbformat": 4,
 "nbformat_minor": 2
}
